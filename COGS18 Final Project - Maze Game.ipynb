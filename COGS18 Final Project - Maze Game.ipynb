{
 "cells": [
  {
   "cell_type": "markdown",
   "metadata": {},
   "source": [
    "# MazeGame Project"
   ]
  },
  {
   "cell_type": "markdown",
   "metadata": {},
   "source": [
    "I wanted to challenge myself by implementing a full playable maze game with an GUI. Since mazes aren't too interesting if the player can just trace paths with their eyes, I decided to implement a 3D maze that is played from a first person perspective. \n",
    "\n",
    "Unfortunately, I did not have enough time, or Python knowledge to write a 3D maze generator in time for the deadline so the project is just the implementation of the game itself with hardcoded mazes. \n",
    "\n",
    "The project uses PyQt5 to create an event loop that reacts to buttons/keys that are pressed in the GUI and depending on the player's position and orientation within the maze, shows updates the player's view by replacing the images shown by labels (that I drew myself), giving the illusion of open and closed spaces.\n",
    "\n",
    "**Important**\n",
    "\n",
    "The newest version of numpy is incompatible with the newest Windows update (when I started the project 2 weeks ago), so just pip install the specified version. PyQt5 can also be 'pip installed'."
   ]
  },
  {
   "cell_type": "markdown",
   "metadata": {},
   "source": [
    "## File Organization\n",
    "\n",
    "### maze_game_modules\n",
    "    Directiory storing all the modules\n",
    "\n",
    "##### __init__.py\n",
    "    To help pytest not crash and allow the rest of the modules to import normally. \n",
    "##### maze_game.py\n",
    "    The game module, everything runs from this.\n",
    "##### mazes.py\n",
    "    Stores the mazes, which are 3D numpy.ndarrays\n",
    "##### test_maze_game.py\n",
    "    Stores the test code and helper functions\n",
    "    \n",
    "### maze_gui.ui\n",
    "    GUI created by Qt Designer so I don't have to hand code layouts, buttons and labels. \n",
    "### requirements.txt\n",
    "    Self-explanatory.\n",
    "### COGS18 Final Project - Maze Game.ipynb\n",
    "    This file."
   ]
  },
  {
   "cell_type": "markdown",
   "metadata": {},
   "source": [
    "## How the game works:\n",
    "The game displays a first person view of the maze. When moving, your direction does not change. So when moving side to side, the perspective remains facing in the same direction (It's actually really easy to implement automatic turning but makes testing and playing the game much more confusing). When you have reached the goal, the center of the screen should print \"You Win!.\" You can continue to move around after. Close the window to stop the cell from running.\n",
    "\n",
    "### In case the notebook doesn't work: \n",
    "You can either run these commands from a Python console/command line or open up the maze_game module and run it at the script, the final lines of the module should call run_game and you can change the maze index in there to switch mazes.\n",
    "\n",
    "### Run a linear sample game:"
   ]
  },
  {
   "cell_type": "code",
   "execution_count": 1,
   "metadata": {},
   "outputs": [],
   "source": [
    "from maze_game_modules import maze_game"
   ]
  },
  {
   "cell_type": "code",
   "execution_count": 3,
   "metadata": {},
   "outputs": [],
   "source": [
    "# Runs the game with the default maze (it's linear)\n",
    "# A new window should pop up in your taskbar\n",
    "# Close the window to regain control of notebook, since it essentially runs in an infinite loop.\n",
    "\n",
    "maze_game.run_game();"
   ]
  },
  {
   "cell_type": "markdown",
   "metadata": {},
   "source": [
    "## Try it yourself: (Input parameter ranging from 0 to 4, the previous game used maze 1)"
   ]
  },
  {
   "cell_type": "code",
   "execution_count": 2,
   "metadata": {
    "scrolled": true
   },
   "outputs": [],
   "source": [
    "# 0 is a 7x7x7 maze, I do not recommend. 2-4 are 5x5x3 mazes\n",
    "maze_game.run_game(3);"
   ]
  },
  {
   "cell_type": "markdown",
   "metadata": {},
   "source": [
    "## Future Plans\n",
    "\n",
    "I would like to properly finish the maze generation, which would involve implementing some form of maze generation algorithm in 3D which would be interesting. I also want to fully test the code since I wasn't able to fully test the functions that use generated objects as parameters. I would also want to add more images/transitions to give the impression that the player is moving since right now, if the space configuration is the same, the images don't change.     "
   ]
  },
  {
   "cell_type": "markdown",
   "metadata": {},
   "source": [
    "## Citations\n",
    "\n",
    "Learned how to properly use a .jpg image as a picture in a label (used to display the maze walls) in maze_game.py for function MazeGame.update_visuals. \n",
    "https://stackoverflow.com/questions/16990914/python-pyqt-qpixmap-returns-null-for-a-valid-image\n",
    "\n",
    "Learned how to make sure the Jupyter Notebook doesn't crash if you rerun a cell after closing the window in maze_game.py for function run_game.\n",
    "https://stackoverflow.com/questions/40094086/python-kernel-dies-for-second-run-of-pyqt5-gui\n",
    "\n",
    "Learned that I needed an `__init__.py` file to make make pytest and reasonable importing syntax to coexist. \n",
    "Credit to my friend Andrew Kahr.\n"
   ]
  },
  {
   "cell_type": "markdown",
   "metadata": {},
   "source": [
    "**Extra Credit**\n",
    "\n",
    "I \"taught\" myself a bit of Python through googling over the summer and used PyQt5 during the summer so I knew the syntax of basic functions, but I didn't know any of the conventions, style, documentation requirements. I have uploaded my project to Github. I think I challenged myself by creating a 3D coordinate system and a unique way of displaying the 3D space in a first person perspective by working extensively with numpy arrays for the first time and without googling/imitating someone else's code.    "
   ]
  }
 ],
 "metadata": {
  "kernelspec": {
   "display_name": "Python 3",
   "language": "python",
   "name": "python3"
  },
  "language_info": {
   "codemirror_mode": {
    "name": "ipython",
    "version": 3
   },
   "file_extension": ".py",
   "mimetype": "text/x-python",
   "name": "python",
   "nbconvert_exporter": "python",
   "pygments_lexer": "ipython3",
   "version": "3.7.6"
  }
 },
 "nbformat": 4,
 "nbformat_minor": 4
}
