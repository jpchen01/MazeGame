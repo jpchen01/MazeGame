{
 "cells": [
  {
   "cell_type": "code",
   "execution_count": 4,
   "metadata": {},
   "outputs": [
    {
     "name": "stdout",
     "output_type": "stream",
     "text": [
      "{'open1_2.jpg': <PyQt5.QtGui.QPixmap object at 0x0000017A7F9557B0>, 'open2_1.jpg': <PyQt5.QtGui.QPixmap object at 0x0000017A7F955820>, 'open2_2.jpg': <PyQt5.QtGui.QPixmap object at 0x0000017A7F955DD0>, 'open2_3.jpg': <PyQt5.QtGui.QPixmap object at 0x0000017A7F955AC0>, 'open3_2.jpg': <PyQt5.QtGui.QPixmap object at 0x0000017A7F955890>, 'square1_1.jpg': <PyQt5.QtGui.QPixmap object at 0x0000017A7F955900>, 'square1_2.jpg': <PyQt5.QtGui.QPixmap object at 0x0000017A7F955BA0>, 'square1_3.jpg': <PyQt5.QtGui.QPixmap object at 0x0000017A7F955A50>, 'square2_1.jpg': <PyQt5.QtGui.QPixmap object at 0x0000017A7F955970>, 'square2_2.jpg': <PyQt5.QtGui.QPixmap object at 0x0000017A7F955CF0>, 'square2_3.jpg': <PyQt5.QtGui.QPixmap object at 0x0000017A7F955C80>, 'square3_1.jpg': <PyQt5.QtGui.QPixmap object at 0x0000017A7F955B30>, 'square3_2.jpg': <PyQt5.QtGui.QPixmap object at 0x0000017A7F955C10>, 'square3_3.jpg': <PyQt5.QtGui.QPixmap object at 0x0000017A7F955E40>}\n"
     ]
    }
   ],
   "source": [
    "import maze_gen\n",
    "maze_gen.run_game()"
   ]
  }
 ],
 "metadata": {
  "kernelspec": {
   "display_name": "Python 3",
   "language": "python",
   "name": "python3"
  },
  "language_info": {
   "codemirror_mode": {
    "name": "ipython",
    "version": 3
   },
   "file_extension": ".py",
   "mimetype": "text/x-python",
   "name": "python",
   "nbconvert_exporter": "python",
   "pygments_lexer": "ipython3",
   "version": "3.8.5"
  }
 },
 "nbformat": 4,
 "nbformat_minor": 4
}
